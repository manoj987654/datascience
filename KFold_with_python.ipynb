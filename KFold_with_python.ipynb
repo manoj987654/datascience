{
  "nbformat": 4,
  "nbformat_minor": 0,
  "metadata": {
    "colab": {
      "provenance": [],
      "authorship_tag": "ABX9TyMiQxq/S2Qs1xfHz2eP3BV6",
      "include_colab_link": true
    },
    "kernelspec": {
      "name": "python3",
      "display_name": "Python 3"
    },
    "language_info": {
      "name": "python"
    }
  },
  "cells": [
    {
      "cell_type": "markdown",
      "metadata": {
        "id": "view-in-github",
        "colab_type": "text"
      },
      "source": [
        "<a href=\"https://colab.research.google.com/github/manoj987654/datascience/blob/main/KFold_with_python.ipynb\" target=\"_parent\"><img src=\"https://colab.research.google.com/assets/colab-badge.svg\" alt=\"Open In Colab\"/></a>"
      ]
    },
    {
      "cell_type": "code",
      "execution_count": 3,
      "metadata": {
        "id": "2lmXOaET5ANR"
      },
      "outputs": [],
      "source": [
        "import numpy as np\n",
        "from sklearn.model_selection import KFold"
      ]
    },
    {
      "cell_type": "code",
      "source": [
        "x=['a','b','c','d']\n",
        "kf=KFold(n_splits=2)\n",
        "for train,test in kf.split(x):\n",
        "  print(\"%s %s\"% (train,test))"
      ],
      "metadata": {
        "colab": {
          "base_uri": "https://localhost:8080/"
        },
        "id": "FYaVscpV5WXa",
        "outputId": "0ab21a74-c1c1-4d25-d727-96c267c12e6f"
      },
      "execution_count": 7,
      "outputs": [
        {
          "output_type": "stream",
          "name": "stdout",
          "text": [
            "[2 3] [0 1]\n",
            "[0 1] [2 3]\n"
          ]
        }
      ]
    },
    {
      "cell_type": "code",
      "source": [
        "x=np.array([[0.,0.],[1.,1.],[-1.,-1],[2.,2.]])\n",
        "y=np.array([0,1,0,1])\n",
        "x_train,x_test,y_train,y_test=x[train],x[test],y[train],y[test]"
      ],
      "metadata": {
        "id": "FvCrblZT6GYh"
      },
      "execution_count": 8,
      "outputs": []
    },
    {
      "cell_type": "code",
      "source": [
        "from sklearn.model_selection import StratifiedKFold,KFold\n",
        "import numpy as np"
      ],
      "metadata": {
        "id": "qRpjh9Pw6-Ry"
      },
      "execution_count": 10,
      "outputs": []
    },
    {
      "cell_type": "code",
      "source": [
        "x,y=np.ones((50,1)),np.hstack(([0]*45,[1]*5))\n",
        "skf=StratifiedKFold(n_splits=3)\n",
        "\n",
        "for train,test in skf.split(x,y):\n",
        "  print('train-{}| test-{}'.format(np.bincount(y[train]),np.bincount(y[test])))\n",
        "\n"
      ],
      "metadata": {
        "colab": {
          "base_uri": "https://localhost:8080/"
        },
        "id": "UAX4_Axn7gTZ",
        "outputId": "4d25b079-9802-42ac-da33-0b7773946c4f"
      },
      "execution_count": 13,
      "outputs": [
        {
          "output_type": "stream",
          "name": "stdout",
          "text": [
            "train-[30  3]| test-[15  2]\n",
            "train-[30  3]| test-[15  2]\n",
            "train-[30  4]| test-[15  1]\n"
          ]
        }
      ]
    },
    {
      "cell_type": "code",
      "source": [
        "from sklearn.datasets import make_classification\n",
        "\n",
        "x,y=make_classification(n_samples=1000,n_features=20,n_informative=15,n_redundant=5,random_state=1)"
      ],
      "metadata": {
        "id": "mgvStcrs8vYC"
      },
      "execution_count": 18,
      "outputs": []
    },
    {
      "cell_type": "code",
      "source": [
        "from numpy import mean\n",
        "from numpy import std\n",
        "from sklearn.datasets import make_classification\n",
        "from sklearn.model_selection import KFold\n",
        "from sklearn.model_selection import cross_val_score\n",
        "from sklearn.linear_model import LogisticRegression\n"
      ],
      "metadata": {
        "id": "Ba28xTQ49tAa"
      },
      "execution_count": 17,
      "outputs": []
    },
    {
      "cell_type": "code",
      "source": [
        "cv=KFold(n_splits=10,random_state=1,shuffle=True)"
      ],
      "metadata": {
        "id": "5a_0NH3r-lVa"
      },
      "execution_count": 19,
      "outputs": []
    },
    {
      "cell_type": "code",
      "source": [
        "model=LogisticRegression()"
      ],
      "metadata": {
        "id": "VZIV48AC_EMD"
      },
      "execution_count": 20,
      "outputs": []
    },
    {
      "cell_type": "code",
      "source": [
        "scores=cross_val_score(model,x,y,scoring='accuracy',cv=cv,n_jobs=-1)"
      ],
      "metadata": {
        "id": "tPDF6NDv_ItJ"
      },
      "execution_count": 21,
      "outputs": []
    },
    {
      "cell_type": "code",
      "source": [
        "print('accuracy: %.3f(%.3f)'%(mean(scores),std(scores)))"
      ],
      "metadata": {
        "colab": {
          "base_uri": "https://localhost:8080/"
        },
        "id": "UIdL101A_XsA",
        "outputId": "7c22a8dd-9d30-4b86-970f-3053c4fceccf"
      },
      "execution_count": 22,
      "outputs": [
        {
          "output_type": "stream",
          "name": "stdout",
          "text": [
            "accuracy: 0.868(0.032)\n"
          ]
        }
      ]
    },
    {
      "cell_type": "code",
      "source": [
        "print(mean(scores),std(scores))"
      ],
      "metadata": {
        "colab": {
          "base_uri": "https://localhost:8080/"
        },
        "id": "_vgaJl0n_oQ5",
        "outputId": "ae7ac2be-7f12-4478-d880-91903fae2fe8"
      },
      "execution_count": 24,
      "outputs": [
        {
          "output_type": "stream",
          "name": "stdout",
          "text": [
            "0.868 0.03187475490101849\n"
          ]
        }
      ]
    },
    {
      "cell_type": "code",
      "source": [],
      "metadata": {
        "id": "Cv9azarK_yTZ"
      },
      "execution_count": null,
      "outputs": []
    }
  ]
}